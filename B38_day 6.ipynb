{
 "cells": [
  {
   "cell_type": "code",
   "execution_count": 1,
   "metadata": {},
   "outputs": [],
   "source": [
    "students=['venila','yusu','karthik','john']"
   ]
  },
  {
   "cell_type": "code",
   "execution_count": 2,
   "metadata": {},
   "outputs": [
    {
     "name": "stdout",
     "output_type": "stream",
     "text": [
      "['venila', 'yusu', 'karthik', 'john']\n"
     ]
    }
   ],
   "source": [
    "print(students)"
   ]
  },
  {
   "cell_type": "code",
   "execution_count": 3,
   "metadata": {},
   "outputs": [
    {
     "data": {
      "text/plain": [
       "list"
      ]
     },
     "execution_count": 3,
     "metadata": {},
     "output_type": "execute_result"
    }
   ],
   "source": [
    "type(students)"
   ]
  },
  {
   "cell_type": "code",
   "execution_count": null,
   "metadata": {},
   "outputs": [],
   "source": []
  },
  {
   "cell_type": "code",
   "execution_count": null,
   "metadata": {},
   "outputs": [],
   "source": [
    "#req: i want to appreciate all the students in the above list"
   ]
  },
  {
   "cell_type": "code",
   "execution_count": 4,
   "metadata": {},
   "outputs": [
    {
     "name": "stdout",
     "output_type": "stream",
     "text": [
      "keep up the good work,Venila\n"
     ]
    }
   ],
   "source": [
    "print(f\"keep up the good work,{students[0].title()}\")"
   ]
  },
  {
   "cell_type": "code",
   "execution_count": null,
   "metadata": {},
   "outputs": [],
   "source": [
    "#req: with single syntax if i want to appreciate all students\n",
    "\n"
   ]
  },
  {
   "cell_type": "code",
   "execution_count": null,
   "metadata": {},
   "outputs": [],
   "source": [
    "introdution to for loops"
   ]
  },
  {
   "cell_type": "code",
   "execution_count": null,
   "metadata": {},
   "outputs": [],
   "source": [
    "#general syntax:\n",
    "for tempvar in mainvar:\n",
    "    print(tempvar)\n",
    "    \n",
    "#the gap is called indentation\n",
    "#tempvar-->it can be any name, x,y\n",
    "#mainvar--> here mainvar is students.\n"
   ]
  },
  {
   "cell_type": "code",
   "execution_count": 6,
   "metadata": {},
   "outputs": [
    {
     "name": "stdout",
     "output_type": "stream",
     "text": [
      "keep up the good work,Venila\n",
      "keep up the good work,Yusu\n",
      "keep up the good work,Karthik\n",
      "keep up the good work,John\n"
     ]
    }
   ],
   "source": [
    "for x in students:\n",
    "    print(f\"keep up the good work,{x.title()}\")"
   ]
  },
  {
   "cell_type": "code",
   "execution_count": null,
   "metadata": {},
   "outputs": [],
   "source": [
    "#In place of x we can use any variable.."
   ]
  },
  {
   "cell_type": "code",
   "execution_count": null,
   "metadata": {},
   "outputs": [],
   "source": []
  },
  {
   "cell_type": "code",
   "execution_count": null,
   "metadata": {},
   "outputs": [],
   "source": [
    "#enhancement of the code..."
   ]
  },
  {
   "cell_type": "code",
   "execution_count": 7,
   "metadata": {},
   "outputs": [
    {
     "name": "stdout",
     "output_type": "stream",
     "text": [
      "keep up the good work,Venila\n",
      "Will be looking forward to recieve your practise,Venila\n",
      "keep up the good work,Yusu\n",
      "Will be looking forward to recieve your practise,Yusu\n",
      "keep up the good work,Karthik\n",
      "Will be looking forward to recieve your practise,Karthik\n",
      "keep up the good work,John\n",
      "Will be looking forward to recieve your practise,John\n"
     ]
    }
   ],
   "source": [
    "for a in students:\n",
    "    print(f\"keep up the good work,{a.title()}\")\n",
    "    print(f\"Will be looking forward to recieve your practise,{a.title()}\")"
   ]
  },
  {
   "cell_type": "code",
   "execution_count": null,
   "metadata": {},
   "outputs": [],
   "source": [
    "# improvisation of the code\n",
    "#writing in the loop"
   ]
  },
  {
   "cell_type": "code",
   "execution_count": 9,
   "metadata": {},
   "outputs": [
    {
     "name": "stdout",
     "output_type": "stream",
     "text": [
      "keep up the good work,Venila\n",
      "Will be looking forward to recieve your practise,Venila.\n",
      "\n",
      "keep up the good work,Yusu\n",
      "Will be looking forward to recieve your practise,Yusu.\n",
      "\n",
      "keep up the good work,Karthik\n",
      "Will be looking forward to recieve your practise,Karthik.\n",
      "\n",
      "keep up the good work,John\n",
      "Will be looking forward to recieve your practise,John.\n",
      "\n"
     ]
    }
   ],
   "source": [
    "for a in students:\n",
    "    print(f\"keep up the good work,{a.title()}\")\n",
    "    print(f\"Will be looking forward to recieve your practise,{a.title()}.\\n\")"
   ]
  },
  {
   "cell_type": "code",
   "execution_count": null,
   "metadata": {},
   "outputs": [],
   "source": [
    "#writing out of the loop"
   ]
  },
  {
   "cell_type": "code",
   "execution_count": 10,
   "metadata": {},
   "outputs": [
    {
     "name": "stdout",
     "output_type": "stream",
     "text": [
      "keep up the good work,Venila\n",
      "Will be looking forward to recieve your practise,Venila.\n",
      "\n",
      "keep up the good work,Yusu\n",
      "Will be looking forward to recieve your practise,Yusu.\n",
      "\n",
      "keep up the good work,Karthik\n",
      "Will be looking forward to recieve your practise,Karthik.\n",
      "\n",
      "keep up the good work,John\n",
      "Will be looking forward to recieve your practise,John.\n",
      "\n",
      "tq all for joining the session today\n"
     ]
    }
   ],
   "source": [
    "for a in students:\n",
    "    print(f\"keep up the good work,{a.title()}\")\n",
    "    print(f\"Will be looking forward to recieve your practise,{a.title()}.\\n\")\n",
    "print(\"tq all for joining the session today\")    "
   ]
  },
  {
   "cell_type": "code",
   "execution_count": null,
   "metadata": {},
   "outputs": [],
   "source": []
  },
  {
   "cell_type": "code",
   "execution_count": null,
   "metadata": {},
   "outputs": [],
   "source": [
    "#Interview ques...\n",
    "Do we have to give indentation in a forloop...?\n",
    "Ans: yes\n",
    "    If not it will show indentation error."
   ]
  },
  {
   "cell_type": "code",
   "execution_count": null,
   "metadata": {},
   "outputs": [],
   "source": []
  },
  {
   "cell_type": "code",
   "execution_count": null,
   "metadata": {},
   "outputs": [],
   "source": []
  },
  {
   "cell_type": "code",
   "execution_count": null,
   "metadata": {},
   "outputs": [],
   "source": []
  },
  {
   "cell_type": "code",
   "execution_count": null,
   "metadata": {},
   "outputs": [],
   "source": []
  },
  {
   "cell_type": "code",
   "execution_count": null,
   "metadata": {},
   "outputs": [],
   "source": []
  },
  {
   "cell_type": "code",
   "execution_count": null,
   "metadata": {},
   "outputs": [],
   "source": []
  }
 ],
 "metadata": {
  "kernelspec": {
   "display_name": "Python 3",
   "language": "python",
   "name": "python3"
  },
  "language_info": {
   "codemirror_mode": {
    "name": "ipython",
    "version": 3
   },
   "file_extension": ".py",
   "mimetype": "text/x-python",
   "name": "python",
   "nbconvert_exporter": "python",
   "pygments_lexer": "ipython3",
   "version": "3.8.5"
  }
 },
 "nbformat": 4,
 "nbformat_minor": 4
}
